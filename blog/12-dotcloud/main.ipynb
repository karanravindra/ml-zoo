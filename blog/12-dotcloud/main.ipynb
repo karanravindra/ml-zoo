{
 "cells": [
  {
   "cell_type": "code",
   "execution_count": null,
   "metadata": {},
   "outputs": [],
   "source": [
    "import torch\n",
    "import torch.nn as nn\n",
    "import torch.nn.functional as F\n",
    "import torchvision\n",
    "import matplotlib.pyplot as plt"
   ]
  },
  {
   "cell_type": "code",
   "execution_count": null,
   "metadata": {},
   "outputs": [],
   "source": [
    "import diffusers\n",
    "scheduler = diffusers.schedulers.DDIMScheduler(num_train_timesteps=2)"
   ]
  },
  {
   "cell_type": "code",
   "execution_count": null,
   "metadata": {},
   "outputs": [],
   "source": [
    "class Net(nn.Module):\n",
    "    def __init__(self):\n",
    "        super(Net, self).__init__()\n",
    "        self.layers = nn.Sequential(\n",
    "            nn.Linear(2, 10),\n",
    "            nn.ReLU(),\n",
    "            nn.Linear(10, 10),\n",
    "            nn.ReLU(),\n",
    "            nn.Linear(10, 10),\n",
    "            nn.ReLU(),\n",
    "            nn.Linear(10, 10),\n",
    "            nn.ReLU(),\n",
    "            nn.Linear(10, 10),\n",
    "            nn.ReLU(),\n",
    "            nn.Linear(10, 2)\n",
    "        )\n",
    "\n",
    "    def forward(self, x):\n",
    "        x = self.layers(x)\n",
    "        return F.tanh(x)\n",
    "    \n",
    "theta = torch.linspace(0, 2 * 3.14159, 100)\n",
    "x = torch.stack([torch.cos(theta), torch.sin(theta)], dim=1)\n",
    "y = torch.stack([torch.cos(theta + 0.1), torch.sin(theta + 0.1)], dim=1)\n",
    "\n",
    "saved = []\n",
    "    \n",
    "net = Net()\n",
    "optimizer = torch.optim.SGD(net.parameters(), lr=0.01, momentum=0.9)\n",
    "criterion = nn.MSELoss()"
   ]
  },
  {
   "cell_type": "code",
   "execution_count": null,
   "metadata": {},
   "outputs": [],
   "source": [
    "for epcoh in range(10000):\n",
    "    noise = torch.randn_like(x)\n",
    "    t = torch.randint(0, 1, (x.size(0),))\n",
    "    \n",
    "    noisy_x = scheduler.add_noise(x, noise, t)\n",
    "\n",
    "    noise_pred = net(noisy_x)\n",
    "    loss = criterion(noise_pred, torch.cat([torch.cos(theta), torch.sin(theta)], dim=0).view(-1, 2))\n",
    "\n",
    "    optimizer.zero_grad()\n",
    "    loss.backward()\n",
    "    optimizer.step()\n",
    "\n",
    "    if epcoh % 1000 == 0:\n",
    "        print(f\"Loss: {loss.item()}\")\n",
    "        saved.append(noise_pred.detach().clone())"
   ]
  },
  {
   "cell_type": "code",
   "execution_count": null,
   "metadata": {},
   "outputs": [],
   "source": [
    "def generate():\n",
    "    noise = torch.randn_like(x)\n",
    "    t = 2\n",
    "\n",
    "    output = net(noise)\n",
    "    scheduler.set_timesteps(t)\n",
    "    print(output.shape, noise.shape)\n",
    "    img = scheduler.step(output, timestep=torch.full((x.size(0),), 2, dtype=torch.long), sample=noise)\n",
    "    return img\n",
    "generate()"
   ]
  },
  {
   "cell_type": "code",
   "execution_count": null,
   "metadata": {},
   "outputs": [],
   "source": []
  },
  {
   "cell_type": "code",
   "execution_count": null,
   "metadata": {},
   "outputs": [],
   "source": [
    "new_points = torch.randn(100, 2)\n",
    "output = net(new_points)\n",
    "plt.scatter(output[:, 0].detach(), output[:, 1].detach())\n",
    "plt.gca().set_aspect('equal', adjustable='box')\n",
    "plt.show()"
   ]
  },
  {
   "cell_type": "code",
   "execution_count": null,
   "metadata": {},
   "outputs": [],
   "source": [
    "from PIL import Image\n",
    "from tqdm import tqdm\n",
    "path = \"blog/12-dotcloud/frames\"\n",
    "\n",
    "for i, frame in enumerate(tqdm(saved_points)):\n",
    "    plt.close(fig)\n",
    "    plt.figure(figsize=(6, 6))\n",
    "    x, y = x.clip(-1, 1), y.clip(-1, 1)\n",
    "    plt.scatter(x, y)\n",
    "    plt.scatter(frame[:, 0].detach(), frame[:, 1].detach())\n",
    "    plt.gca().set_aspect('equal', anchor='SW')\n",
    "    plt.title(f'Frame {i}')\n",
    "    plt.savefig(f'{path}/{i:03d}.png', bbox_inches='tight', pad_inches=0.25)\n",
    "    plt.close(fig)\n",
    "    "
   ]
  },
  {
   "cell_type": "code",
   "execution_count": null,
   "metadata": {},
   "outputs": [],
   "source": [
    "#for img in path create gif\n",
    "import os\n",
    "import imageio\n",
    "\n",
    "images = []\n",
    "for filename in sorted(os.listdir(path)):\n",
    "    img = imageio.imread(f'{path}/{filename}')\n",
    "    img.resize((474, 558, 4))\n",
    "    images.append(img)\n",
    "    # if images[-1].shape[0] != 512:\n",
    "    #     images.pop()\n",
    "    #     continue\n",
    "    \n",
    "imageio.mimsave('animation.gif', images, duration=1)"
   ]
  },
  {
   "cell_type": "code",
   "execution_count": null,
   "metadata": {},
   "outputs": [],
   "source": [
    "gif = Image.open('animation.gif').show()"
   ]
  },
  {
   "cell_type": "code",
   "execution_count": null,
   "metadata": {},
   "outputs": [],
   "source": []
  },
  {
   "cell_type": "code",
   "execution_count": null,
   "metadata": {},
   "outputs": [],
   "source": []
  }
 ],
 "metadata": {
  "kernelspec": {
   "display_name": ".venv",
   "language": "python",
   "name": "python3"
  },
  "language_info": {
   "codemirror_mode": {
    "name": "ipython",
    "version": 3
   },
   "file_extension": ".py",
   "mimetype": "text/x-python",
   "name": "python",
   "nbconvert_exporter": "python",
   "pygments_lexer": "ipython3",
   "version": "3.10.14"
  }
 },
 "nbformat": 4,
 "nbformat_minor": 2
}
